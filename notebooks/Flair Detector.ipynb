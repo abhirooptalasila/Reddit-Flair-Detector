{
 "cells": [
  {
   "cell_type": "markdown",
   "metadata": {},
   "source": [
    "# Reddit Flair Detector\n",
    "\n",
    "---\n",
    "\n",
    "Note: You can jump straight to the best model - [CNN](#Multichannel-Convolutional-Neural-Network) (93% test-accuracy)\n",
    "\n",
    "## Part III - Building a Flair Detector\n",
    "\n",
    "### 1) Import required modules"
   ]
  },
  {
   "cell_type": "code",
   "execution_count": 1,
   "metadata": {
    "collapsed": true,
    "jupyter": {
     "outputs_hidden": true
    }
   },
   "outputs": [
    {
     "name": "stderr",
     "output_type": "stream",
     "text": [
      "/home/abhiroop/anaconda3/lib/python3.7/site-packages/tensorflow/python/framework/dtypes.py:516: FutureWarning: Passing (type, 1) or '1type' as a synonym of type is deprecated; in a future version of numpy, it will be understood as (type, (1,)) / '(1,)type'.\n",
      "  _np_qint8 = np.dtype([(\"qint8\", np.int8, 1)])\n",
      "/home/abhiroop/anaconda3/lib/python3.7/site-packages/tensorflow/python/framework/dtypes.py:517: FutureWarning: Passing (type, 1) or '1type' as a synonym of type is deprecated; in a future version of numpy, it will be understood as (type, (1,)) / '(1,)type'.\n",
      "  _np_quint8 = np.dtype([(\"quint8\", np.uint8, 1)])\n",
      "/home/abhiroop/anaconda3/lib/python3.7/site-packages/tensorflow/python/framework/dtypes.py:518: FutureWarning: Passing (type, 1) or '1type' as a synonym of type is deprecated; in a future version of numpy, it will be understood as (type, (1,)) / '(1,)type'.\n",
      "  _np_qint16 = np.dtype([(\"qint16\", np.int16, 1)])\n",
      "/home/abhiroop/anaconda3/lib/python3.7/site-packages/tensorflow/python/framework/dtypes.py:519: FutureWarning: Passing (type, 1) or '1type' as a synonym of type is deprecated; in a future version of numpy, it will be understood as (type, (1,)) / '(1,)type'.\n",
      "  _np_quint16 = np.dtype([(\"quint16\", np.uint16, 1)])\n",
      "/home/abhiroop/anaconda3/lib/python3.7/site-packages/tensorflow/python/framework/dtypes.py:520: FutureWarning: Passing (type, 1) or '1type' as a synonym of type is deprecated; in a future version of numpy, it will be understood as (type, (1,)) / '(1,)type'.\n",
      "  _np_qint32 = np.dtype([(\"qint32\", np.int32, 1)])\n",
      "/home/abhiroop/anaconda3/lib/python3.7/site-packages/tensorflow/python/framework/dtypes.py:525: FutureWarning: Passing (type, 1) or '1type' as a synonym of type is deprecated; in a future version of numpy, it will be understood as (type, (1,)) / '(1,)type'.\n",
      "  np_resource = np.dtype([(\"resource\", np.ubyte, 1)])\n",
      "/home/abhiroop/anaconda3/lib/python3.7/site-packages/tensorboard/compat/tensorflow_stub/dtypes.py:541: FutureWarning: Passing (type, 1) or '1type' as a synonym of type is deprecated; in a future version of numpy, it will be understood as (type, (1,)) / '(1,)type'.\n",
      "  _np_qint8 = np.dtype([(\"qint8\", np.int8, 1)])\n",
      "/home/abhiroop/anaconda3/lib/python3.7/site-packages/tensorboard/compat/tensorflow_stub/dtypes.py:542: FutureWarning: Passing (type, 1) or '1type' as a synonym of type is deprecated; in a future version of numpy, it will be understood as (type, (1,)) / '(1,)type'.\n",
      "  _np_quint8 = np.dtype([(\"quint8\", np.uint8, 1)])\n",
      "/home/abhiroop/anaconda3/lib/python3.7/site-packages/tensorboard/compat/tensorflow_stub/dtypes.py:543: FutureWarning: Passing (type, 1) or '1type' as a synonym of type is deprecated; in a future version of numpy, it will be understood as (type, (1,)) / '(1,)type'.\n",
      "  _np_qint16 = np.dtype([(\"qint16\", np.int16, 1)])\n",
      "/home/abhiroop/anaconda3/lib/python3.7/site-packages/tensorboard/compat/tensorflow_stub/dtypes.py:544: FutureWarning: Passing (type, 1) or '1type' as a synonym of type is deprecated; in a future version of numpy, it will be understood as (type, (1,)) / '(1,)type'.\n",
      "  _np_quint16 = np.dtype([(\"quint16\", np.uint16, 1)])\n",
      "/home/abhiroop/anaconda3/lib/python3.7/site-packages/tensorboard/compat/tensorflow_stub/dtypes.py:545: FutureWarning: Passing (type, 1) or '1type' as a synonym of type is deprecated; in a future version of numpy, it will be understood as (type, (1,)) / '(1,)type'.\n",
      "  _np_qint32 = np.dtype([(\"qint32\", np.int32, 1)])\n",
      "/home/abhiroop/anaconda3/lib/python3.7/site-packages/tensorboard/compat/tensorflow_stub/dtypes.py:550: FutureWarning: Passing (type, 1) or '1type' as a synonym of type is deprecated; in a future version of numpy, it will be understood as (type, (1,)) / '(1,)type'.\n",
      "  np_resource = np.dtype([(\"resource\", np.ubyte, 1)])\n",
      "Using TensorFlow backend.\n"
     ]
    }
   ],
   "source": [
    "import nltk\n",
    "import string\n",
    "import os\n",
    "import re\n",
    "import pandas as pd\n",
    "import numpy as np\n",
    "import tensorflow as tf\n",
    "import matplotlib.pyplot as plt \n",
    "import warnings\n",
    "import pickle\n",
    "from pickle import load\n",
    "from keras import utils\n",
    "from sklearn.model_selection import train_test_split\n",
    "from sklearn.naive_bayes import MultinomialNB\n",
    "from sklearn.linear_model import LogisticRegression\n",
    "from sklearn.ensemble import RandomForestClassifier\n",
    "from sklearn.linear_model import SGDClassifier\n",
    "from sklearn.neural_network import MLPClassifier\n",
    "from sklearn.feature_extraction.text import CountVectorizer, TfidfVectorizer, TfidfTransformer\n",
    "from sklearn.metrics import accuracy_score, confusion_matrix\n",
    "from sklearn.metrics import classification_report\n",
    "from sklearn.pipeline import Pipeline\n",
    "from keras.preprocessing.text import Tokenizer\n",
    "from keras.models import Sequential, Model\n",
    "from keras.layers import Input, Dense, Activation, Dropout, Embedding, LSTM, Conv1D, GRU, MaxPooling1D, RNN, Flatten\n",
    "from keras.layers.merge import concatenate\n",
    "from keras.callbacks.callbacks import EarlyStopping\n",
    "from keras.preprocessing import text, sequence\n",
    "from keras.preprocessing.sequence import pad_sequences\n",
    "from keras.utils.np_utils import to_categorical\n",
    "from sklearn.preprocessing import LabelEncoder\n",
    "\n",
    "warnings.filterwarnings('ignore')"
   ]
  },
  {
   "cell_type": "markdown",
   "metadata": {},
   "source": [
    "### 2) Read and load cleaned data CSV"
   ]
  },
  {
   "cell_type": "code",
   "execution_count": 2,
   "metadata": {},
   "outputs": [
    {
     "data": {
      "text/html": [
       "<div>\n",
       "<style scoped>\n",
       "    .dataframe tbody tr th:only-of-type {\n",
       "        vertical-align: middle;\n",
       "    }\n",
       "\n",
       "    .dataframe tbody tr th {\n",
       "        vertical-align: top;\n",
       "    }\n",
       "\n",
       "    .dataframe thead th {\n",
       "        text-align: right;\n",
       "    }\n",
       "</style>\n",
       "<table border=\"1\" class=\"dataframe\">\n",
       "  <thead>\n",
       "    <tr style=\"text-align: right;\">\n",
       "      <th></th>\n",
       "      <th>flair</th>\n",
       "      <th>title</th>\n",
       "      <th>score</th>\n",
       "      <th>id</th>\n",
       "      <th>author</th>\n",
       "      <th>comms_num</th>\n",
       "      <th>body</th>\n",
       "      <th>url</th>\n",
       "    </tr>\n",
       "  </thead>\n",
       "  <tbody>\n",
       "    <tr>\n",
       "      <th>0</th>\n",
       "      <td>Scheduled</td>\n",
       "      <td>Untouchability even quarantine We never taken ...</td>\n",
       "      <td>52</td>\n",
       "      <td>fzvwz8</td>\n",
       "      <td>sam-sepiol</td>\n",
       "      <td>7</td>\n",
       "      <td>NaN</td>\n",
       "      <td>https://www.telegraphindia.com/india/coronavir...</td>\n",
       "    </tr>\n",
       "    <tr>\n",
       "      <th>1</th>\n",
       "      <td>Scheduled</td>\n",
       "      <td>Delhi Govt Sources Names CM Arvind Kejriwal De...</td>\n",
       "      <td>301</td>\n",
       "      <td>f7ogd8</td>\n",
       "      <td>The_andh_bhakth</td>\n",
       "      <td>30</td>\n",
       "      <td>NaN</td>\n",
       "      <td>https://twitter.com/ANI/status/123109390051893...</td>\n",
       "    </tr>\n",
       "    <tr>\n",
       "      <th>2</th>\n",
       "      <td>Scheduled</td>\n",
       "      <td>Delhi AP Singh advocate 2012 Delhi gangrape co...</td>\n",
       "      <td>17</td>\n",
       "      <td>flgvah</td>\n",
       "      <td>devCR7</td>\n",
       "      <td>21</td>\n",
       "      <td>NaN</td>\n",
       "      <td>https://twitter.com/ani/status/124073128907587...</td>\n",
       "    </tr>\n",
       "    <tr>\n",
       "      <th>3</th>\n",
       "      <td>Scheduled</td>\n",
       "      <td>Why Supreme Court’s verdict SCST quotas create...</td>\n",
       "      <td>110</td>\n",
       "      <td>f1o839</td>\n",
       "      <td>rahulthewall</td>\n",
       "      <td>47</td>\n",
       "      <td>NaN</td>\n",
       "      <td>https://scroll.in/article/952687/why-the-supre...</td>\n",
       "    </tr>\n",
       "    <tr>\n",
       "      <th>4</th>\n",
       "      <td>Scheduled</td>\n",
       "      <td>What entrance exams scheduled May</td>\n",
       "      <td>8</td>\n",
       "      <td>fvcvo1</td>\n",
       "      <td>plsacceptmyusername</td>\n",
       "      <td>3</td>\n",
       "      <td>CLAT AILET NEET JEE postponed two weeks Would...</td>\n",
       "      <td>https://www.reddit.com/r/india/comments/fvcvo1...</td>\n",
       "    </tr>\n",
       "  </tbody>\n",
       "</table>\n",
       "</div>"
      ],
      "text/plain": [
       "       flair                                              title  score  \\\n",
       "0  Scheduled  Untouchability even quarantine We never taken ...     52   \n",
       "1  Scheduled  Delhi Govt Sources Names CM Arvind Kejriwal De...    301   \n",
       "2  Scheduled  Delhi AP Singh advocate 2012 Delhi gangrape co...     17   \n",
       "3  Scheduled  Why Supreme Court’s verdict SCST quotas create...    110   \n",
       "4  Scheduled                  What entrance exams scheduled May      8   \n",
       "\n",
       "       id               author  comms_num  \\\n",
       "0  fzvwz8           sam-sepiol          7   \n",
       "1  f7ogd8      The_andh_bhakth         30   \n",
       "2  flgvah               devCR7         21   \n",
       "3  f1o839         rahulthewall         47   \n",
       "4  fvcvo1  plsacceptmyusername          3   \n",
       "\n",
       "                                                body  \\\n",
       "0                                                NaN   \n",
       "1                                                NaN   \n",
       "2                                                NaN   \n",
       "3                                                NaN   \n",
       "4   CLAT AILET NEET JEE postponed two weeks Would...   \n",
       "\n",
       "                                                 url  \n",
       "0  https://www.telegraphindia.com/india/coronavir...  \n",
       "1  https://twitter.com/ANI/status/123109390051893...  \n",
       "2  https://twitter.com/ani/status/124073128907587...  \n",
       "3  https://scroll.in/article/952687/why-the-supre...  \n",
       "4  https://www.reddit.com/r/india/comments/fvcvo1...  "
      ]
     },
     "execution_count": 2,
     "metadata": {},
     "output_type": "execute_result"
    }
   ],
   "source": [
    "cleaned_data = pd.read_csv(\"../data/reddit_cleaned_data.csv\")\n",
    "cleaned_data.head()"
   ]
  },
  {
   "cell_type": "markdown",
   "metadata": {},
   "source": [
    "### 3) Drop unwanted columns and remove ```NaN``` elements from ```body```\n",
    "\n",
    "* We'll only be using ```title``` and ```body``` columns for classification"
   ]
  },
  {
   "cell_type": "code",
   "execution_count": 3,
   "metadata": {},
   "outputs": [
    {
     "data": {
      "text/html": [
       "<div>\n",
       "<style scoped>\n",
       "    .dataframe tbody tr th:only-of-type {\n",
       "        vertical-align: middle;\n",
       "    }\n",
       "\n",
       "    .dataframe tbody tr th {\n",
       "        vertical-align: top;\n",
       "    }\n",
       "\n",
       "    .dataframe thead th {\n",
       "        text-align: right;\n",
       "    }\n",
       "</style>\n",
       "<table border=\"1\" class=\"dataframe\">\n",
       "  <thead>\n",
       "    <tr style=\"text-align: right;\">\n",
       "      <th></th>\n",
       "      <th>flair</th>\n",
       "      <th>title</th>\n",
       "      <th>body</th>\n",
       "    </tr>\n",
       "  </thead>\n",
       "  <tbody>\n",
       "    <tr>\n",
       "      <th>0</th>\n",
       "      <td>Scheduled</td>\n",
       "      <td>Untouchability even quarantine We never taken ...</td>\n",
       "      <td>NaN</td>\n",
       "    </tr>\n",
       "    <tr>\n",
       "      <th>1</th>\n",
       "      <td>Scheduled</td>\n",
       "      <td>Delhi Govt Sources Names CM Arvind Kejriwal De...</td>\n",
       "      <td>NaN</td>\n",
       "    </tr>\n",
       "    <tr>\n",
       "      <th>2</th>\n",
       "      <td>Scheduled</td>\n",
       "      <td>Delhi AP Singh advocate 2012 Delhi gangrape co...</td>\n",
       "      <td>NaN</td>\n",
       "    </tr>\n",
       "    <tr>\n",
       "      <th>3</th>\n",
       "      <td>Scheduled</td>\n",
       "      <td>Why Supreme Court’s verdict SCST quotas create...</td>\n",
       "      <td>NaN</td>\n",
       "    </tr>\n",
       "    <tr>\n",
       "      <th>4</th>\n",
       "      <td>Scheduled</td>\n",
       "      <td>What entrance exams scheduled May</td>\n",
       "      <td>CLAT AILET NEET JEE postponed two weeks Would...</td>\n",
       "    </tr>\n",
       "  </tbody>\n",
       "</table>\n",
       "</div>"
      ],
      "text/plain": [
       "       flair                                              title  \\\n",
       "0  Scheduled  Untouchability even quarantine We never taken ...   \n",
       "1  Scheduled  Delhi Govt Sources Names CM Arvind Kejriwal De...   \n",
       "2  Scheduled  Delhi AP Singh advocate 2012 Delhi gangrape co...   \n",
       "3  Scheduled  Why Supreme Court’s verdict SCST quotas create...   \n",
       "4  Scheduled                  What entrance exams scheduled May   \n",
       "\n",
       "                                                body  \n",
       "0                                                NaN  \n",
       "1                                                NaN  \n",
       "2                                                NaN  \n",
       "3                                                NaN  \n",
       "4   CLAT AILET NEET JEE postponed two weeks Would...  "
      ]
     },
     "execution_count": 3,
     "metadata": {},
     "output_type": "execute_result"
    }
   ],
   "source": [
    "flairs = [\"Scheduled\", \"Politics\", \"Photography\", \"Coronavirus\", \"Policy/Economy\", \"AskIndia\", \"Sports\", \"Non-Political\",  \"Science/Technology\", \"Food\", \"Business/Finance\"]\n",
    "\n",
    "cleaned_data.drop([\"score\",\"id\",\"author\",\"comms_num\",\"url\"], inplace=True, axis=1)\n",
    "cleaned_data.head()"
   ]
  },
  {
   "cell_type": "code",
   "execution_count": 4,
   "metadata": {},
   "outputs": [
    {
     "name": "stdout",
     "output_type": "stream",
     "text": [
      "Number of nan elements: 1132\n",
      "Number of [deleted] elements: 0\n",
      "Number of [removed] elements: 0\n",
      "Number of deleted elements: 0\n",
      "Number of removed elements: 0\n",
      "\n",
      "Number of nan elements: 0\n",
      "Number of [deleted] elements: 0\n",
      "Number of [removed] elements: 0\n",
      "Number of deleted elements: 0\n",
      "Number of removed elements: 0\n"
     ]
    }
   ],
   "source": [
    "cleaned_data['body'] = cleaned_data['body'].astype(str)\n",
    "invalid_list = [\"nan\", \"[deleted]\", \"[removed]\", \"deleted\", \"removed\"]\n",
    "\n",
    "for x in invalid_list:\n",
    "    print(\"Number of\", x, \"elements:\", len(cleaned_data[cleaned_data['body'] == x]))\n",
    "    \n",
    "cleaned_data['body'] = cleaned_data['body'].apply(lambda x: '' if x in invalid_list else x)\n",
    "cleaned_data['body'] = cleaned_data['body'].apply(lambda x: '' if x in invalid_list else x)\n",
    "print()\n",
    "for x in invalid_list:\n",
    "    print(\"Number of\", x, \"elements:\", len(cleaned_data[cleaned_data['body'] == x]))"
   ]
  },
  {
   "cell_type": "markdown",
   "metadata": {},
   "source": [
    "### 4) Define a helper function to split the dataset into test and train "
   ]
  },
  {
   "cell_type": "code",
   "execution_count": 5,
   "metadata": {},
   "outputs": [],
   "source": [
    "labels = cleaned_data.flair\n",
    "X_title = cleaned_data.title\n",
    "X_body = cleaned_data.body\n",
    "\n",
    "def split_dataset(X,Y):\n",
    "    X_train, X_test, Y_train, Y_test = train_test_split(X, Y, test_size=0.2, random_state = 21)\n",
    "    return X_train, X_test, Y_train, Y_test"
   ]
  },
  {
   "cell_type": "markdown",
   "metadata": {},
   "source": [
    "## Baseline Classification Models\n",
    "\n",
    "---\n",
    "\n",
    "### 1) Naive Bayes Classifier for Multinomial Models\n",
    "\n",
    "* Our first baseline classifier will be a [Naive Bayes](http://scikit-learn.org/stable/modules/naive_bayes.html#naive-bayes) classifier. For text, we use the multinomial variant\n",
    "* Naive Bayes classifiers are a collection of classification algorithms based on Bayes’ Theorem\n",
    "* Bayes’ Theorem finds the probability of an event occurring given the probability of another event that has already occurred\n",
    "* It is referred to as a Naive classifier as the features are assumed to independent \n",
    "* They are fast and easy to implement but their biggest disadvantage is that the requirement of predictors to be independent. In most of the real life cases, the predictors are dependent, this hinders the performance of the classifier\n",
    "\n",
    "* We'll try to implement a compound classifier using a ```pipeline```\n",
    "* A ```pipeline``` is defined by [Scilkit-Learn](https://scikit-learn.org/stable/modules/generated/sklearn.pipeline.Pipeline.html) as:\n",
    "> Sequentially apply a list of transforms and a final estimator. Intermediate steps of pipeline must implement fit and transform methods and the final estimator only needs to implement fit.\n",
    "*  It helps to enforce desired order of application steps which in turn helps in reproducibility and creating a convenient work-flow\n",
    "* [```CountVectorizer()```](https://scikit-learn.org/stable/modules/generated/sklearn.feature_extraction.text.CountVectorizer.html) converts a collection of text documents to a matrix of token counts\n",
    "* [```TfidfTransformer()```](https://scikit-learn.org/stable/modules/generated/sklearn.feature_extraction.text.TfidfTransformer.html#sklearn.feature_extraction.text.TfidfTransformer) transforms a count matrix to a normalized tf or tf-idf representation\n",
    "> Tf means term-frequency while tf-idf means term-frequency times inverse document-frequency. This is a common term weighting scheme in information retrieval, that has also found good use in document classification.\n",
    "The goal of using tf-idf instead of the raw frequencies of occurrence of a token in a given document is to scale down the impact of tokens that occur very frequently in a given corpus and that are hence empirically less informative than features that occur in a small fraction of the training corpus."
   ]
  },
  {
   "cell_type": "code",
   "execution_count": 6,
   "metadata": {},
   "outputs": [
    {
     "name": "stdout",
     "output_type": "stream",
     "text": [
      "Training with Title as a feature:\n",
      "\n",
      "Accuracy: 64.706 %\n",
      "                    precision    recall  f1-score   support\n",
      "\n",
      "         Scheduled       0.63      0.75      0.69        48\n",
      "          Politics       0.62      0.40      0.49        57\n",
      "       Photography       0.59      0.89      0.71        55\n",
      "       Coronavirus       0.78      0.76      0.77        41\n",
      "    Policy/Economy       0.76      0.84      0.79        37\n",
      "          AskIndia       0.71      0.74      0.73        47\n",
      "            Sports       0.54      0.47      0.50        45\n",
      "     Non-Political       0.54      0.65      0.59        46\n",
      "Science/Technology       0.65      0.57      0.61        42\n",
      "              Food       0.62      0.52      0.57        44\n",
      "  Business/Finance       0.79      0.56      0.66        48\n",
      "\n",
      "          accuracy                           0.65       510\n",
      "         macro avg       0.66      0.65      0.65       510\n",
      "      weighted avg       0.65      0.65      0.64       510\n",
      "\n",
      "Training with Body as a feature:\n",
      "\n",
      "Accuracy: 28.627 %\n",
      "                    precision    recall  f1-score   support\n",
      "\n",
      "         Scheduled       0.33      0.48      0.39        48\n",
      "          Politics       0.31      0.75      0.44        57\n",
      "       Photography       0.00      0.00      0.00        55\n",
      "       Coronavirus       0.15      0.88      0.26        41\n",
      "    Policy/Economy       0.00      0.00      0.00        37\n",
      "          AskIndia       0.71      0.21      0.33        47\n",
      "            Sports       0.27      0.09      0.13        45\n",
      "     Non-Political       1.00      0.04      0.08        46\n",
      "Science/Technology       0.68      0.31      0.43        42\n",
      "              Food       0.58      0.16      0.25        44\n",
      "  Business/Finance       1.00      0.17      0.29        48\n",
      "\n",
      "          accuracy                           0.29       510\n",
      "         macro avg       0.46      0.28      0.24       510\n",
      "      weighted avg       0.46      0.29      0.24       510\n",
      "\n"
     ]
    }
   ],
   "source": [
    "def nb_model(X_train, X_test, Y_train, Y_test):\n",
    "    nb = Pipeline([('vect', CountVectorizer()),\n",
    "                   ('tfidf', TfidfTransformer()),\n",
    "                   ('clf', MultinomialNB()),\n",
    "                  ])\n",
    "    nb.fit(X_train, Y_train)\n",
    "    Y_pred = nb.predict(X_test)\n",
    "    acc = round(accuracy_score(Y_pred, Y_test)*100,3)\n",
    "    print(\"Accuracy:\", acc, \"%\")\n",
    "    print(classification_report(Y_test, Y_pred, target_names=flairs))\n",
    "\n",
    "print(\"Training with Title as a feature:\\n\")\n",
    "X_train, X_test, Y_train, Y_test = split_dataset(X_title,labels)\n",
    "nb_model(X_train, X_test, Y_train, Y_test)\n",
    "\n",
    "cleaned_data['body'] = cleaned_data['body'].astype(str)\n",
    "print(\"Training with Body as a feature:\\n\")\n",
    "X_train, X_test, Y_train, Y_test = split_dataset(X_body,labels)\n",
    "nb_model(X_train, X_test, Y_train, Y_test)"
   ]
  },
  {
   "cell_type": "markdown",
   "metadata": {},
   "source": [
    "### 2) Logistic Regression\n",
    "\n",
    "* Logistic regression is a statistical model that uses a logistic function to model a binary dependent variable\n",
    "* Mathematically, a binary logistic model has a dependent variable with two possible values, \"0\" and \"1\".\n",
    "* Outputs with more than two values are modeled by multinomial logistic regression \n",
    "* The logistic regression model itself simply models probability of output in terms of input and does not perform statistical classification (it is not a classifier), though it can be used to make a classifier, for instance by choosing a cutoff value and classifying inputs with probability greater than the cutoff as one class, below the cutoff as the other; this is a common way to make a binary classifier.\n"
   ]
  },
  {
   "cell_type": "code",
   "execution_count": 7,
   "metadata": {},
   "outputs": [
    {
     "name": "stdout",
     "output_type": "stream",
     "text": [
      "Training with Title as a feature:\n",
      "\n",
      "Accuracy: 69.02 %\n",
      "                    precision    recall  f1-score   support\n",
      "\n",
      "         Scheduled       0.90      0.79      0.84        48\n",
      "          Politics       0.48      0.46      0.47        57\n",
      "       Photography       0.93      0.93      0.93        55\n",
      "       Coronavirus       0.86      0.73      0.79        41\n",
      "    Policy/Economy       0.92      0.89      0.90        37\n",
      "          AskIndia       0.77      0.64      0.70        47\n",
      "            Sports       0.46      0.51      0.48        45\n",
      "     Non-Political       0.63      0.72      0.67        46\n",
      "Science/Technology       0.59      0.64      0.61        42\n",
      "              Food       0.51      0.64      0.57        44\n",
      "  Business/Finance       0.72      0.69      0.70        48\n",
      "\n",
      "          accuracy                           0.69       510\n",
      "         macro avg       0.71      0.69      0.70       510\n",
      "      weighted avg       0.70      0.69      0.69       510\n",
      "\n",
      "Training with Body as a feature:\n",
      "\n",
      "Accuracy: 38.235 %\n",
      "                    precision    recall  f1-score   support\n",
      "\n",
      "         Scheduled       0.36      0.44      0.40        48\n",
      "          Politics       0.73      0.56      0.63        57\n",
      "       Photography       0.21      0.87      0.33        55\n",
      "       Coronavirus       0.35      0.17      0.23        41\n",
      "    Policy/Economy       0.00      0.00      0.00        37\n",
      "          AskIndia       0.65      0.23      0.34        47\n",
      "            Sports       0.51      0.42      0.46        45\n",
      "     Non-Political       0.29      0.15      0.20        46\n",
      "Science/Technology       0.64      0.38      0.48        42\n",
      "              Food       0.58      0.34      0.43        44\n",
      "  Business/Finance       0.86      0.40      0.54        48\n",
      "\n",
      "          accuracy                           0.38       510\n",
      "         macro avg       0.47      0.36      0.37       510\n",
      "      weighted avg       0.48      0.38      0.38       510\n",
      "\n"
     ]
    }
   ],
   "source": [
    "def lr_model(X_train, X_test, Y_train, Y_test):\n",
    "    lr = Pipeline([('vect', CountVectorizer()),\n",
    "                       ('tfidf', TfidfTransformer()),\n",
    "                       ('clf', LogisticRegression(penalty='l2', solver='lbfgs', n_jobs=1, random_state=21, max_iter=100)),\n",
    "                      ])\n",
    "    lr.fit(X_train, Y_train)\n",
    "    Y_pred = lr.predict(X_test)\n",
    "    acc = round(accuracy_score(Y_pred, Y_test)*100,3)\n",
    "    print(\"Accuracy:\", acc, \"%\")\n",
    "    print(classification_report(Y_test, Y_pred, target_names=flairs))\n",
    "\n",
    "print(\"Training with Title as a feature:\\n\")\n",
    "X_train, X_test, Y_train, Y_test = split_dataset(X_title,labels)\n",
    "lr_model(X_train, X_test, Y_train, Y_test)\n",
    "\n",
    "print(\"Training with Body as a feature:\\n\")\n",
    "X_train, X_test, Y_train, Y_test = split_dataset(X_body,labels)\n",
    "lr_model(X_train, X_test, Y_train, Y_test)"
   ]
  },
  {
   "cell_type": "markdown",
   "metadata": {},
   "source": [
    "### 3) Linear Support Vector Machine\n",
    "\n",
    "* This estimator implements regularized linear models with stochastic gradient descent (SGD) learning: the gradient of the loss is estimated each sample at a time and the model is updated along the way with a decreasing learning rate\n",
    "* This implementation works with data represented as dense or sparse arrays of floating point values for the features. The model it fits can be controlled with the loss parameter; by default, it fits a linear support vector machine (SVM).\n",
    "* The regularizer is a penalty added to the loss function that shrinks model parameters towards the zero vector using either the squared euclidean norm L2 or the absolute norm L1. We use the L2 regularizer for most cases\n",
    "* The ```log``` loss function results in higher accuracy than ```hinge``` or ```perceptron``` loss"
   ]
  },
  {
   "cell_type": "code",
   "execution_count": 8,
   "metadata": {},
   "outputs": [
    {
     "name": "stdout",
     "output_type": "stream",
     "text": [
      "Training with Title as a feature:\n",
      "\n",
      "Accuracy: 68.824 %\n",
      "                    precision    recall  f1-score   support\n",
      "\n",
      "         Scheduled       0.84      0.79      0.82        48\n",
      "          Politics       0.57      0.44      0.50        57\n",
      "       Photography       0.82      0.93      0.87        55\n",
      "       Coronavirus       0.84      0.78      0.81        41\n",
      "    Policy/Economy       0.87      0.89      0.88        37\n",
      "          AskIndia       0.74      0.62      0.67        47\n",
      "            Sports       0.49      0.53      0.51        45\n",
      "     Non-Political       0.57      0.78      0.66        46\n",
      "Science/Technology       0.62      0.57      0.59        42\n",
      "              Food       0.55      0.59      0.57        44\n",
      "  Business/Finance       0.72      0.69      0.70        48\n",
      "\n",
      "          accuracy                           0.69       510\n",
      "         macro avg       0.69      0.69      0.69       510\n",
      "      weighted avg       0.69      0.69      0.69       510\n",
      "\n",
      "Training with Body as a feature:\n",
      "\n",
      "Accuracy: 38.235 %\n",
      "                    precision    recall  f1-score   support\n",
      "\n",
      "         Scheduled       0.32      0.48      0.39        48\n",
      "          Politics       0.68      0.63      0.65        57\n",
      "       Photography       0.21      0.87      0.33        55\n",
      "       Coronavirus       0.36      0.22      0.27        41\n",
      "    Policy/Economy       0.00      0.00      0.00        37\n",
      "          AskIndia       0.71      0.21      0.33        47\n",
      "            Sports       0.53      0.42      0.47        45\n",
      "     Non-Political       0.39      0.15      0.22        46\n",
      "Science/Technology       0.73      0.38      0.50        42\n",
      "              Food       0.54      0.30      0.38        44\n",
      "  Business/Finance       0.93      0.29      0.44        48\n",
      "\n",
      "          accuracy                           0.38       510\n",
      "         macro avg       0.49      0.36      0.36       510\n",
      "      weighted avg       0.50      0.38      0.37       510\n",
      "\n"
     ]
    }
   ],
   "source": [
    "def svm_model(X_train, X_test, Y_train, Y_test):\n",
    "    svm = Pipeline([('vect', CountVectorizer()),\n",
    "                    ('tfidf', TfidfTransformer()),\n",
    "                    ('clf', SGDClassifier(loss='log', penalty='l2',alpha=1e-3, random_state=21, max_iter=10, tol=None))\n",
    "                   ])\n",
    "    svm.fit(X_train, Y_train)\n",
    "    Y_pred = svm.predict(X_test)\n",
    "    acc = round(accuracy_score(Y_pred, Y_test)*100,3)\n",
    "    print(\"Accuracy:\", acc, \"%\")\n",
    "    print(classification_report(Y_test, Y_pred, target_names=flairs))\n",
    "\n",
    "print(\"Training with Title as a feature:\\n\")\n",
    "X_train, X_test, Y_train, Y_test = split_dataset(X_title,labels)\n",
    "svm_model(X_train, X_test, Y_train, Y_test)\n",
    "\n",
    "print(\"Training with Body as a feature:\\n\")\n",
    "X_train, X_test, Y_train, Y_test = split_dataset(X_body,labels)\n",
    "svm_model(X_train, X_test, Y_train, Y_test)"
   ]
  },
  {
   "cell_type": "markdown",
   "metadata": {},
   "source": [
    "### 4) Random Forest\n",
    "\n",
    "* Random forest is a model made up of many decision trees\n",
    "* Rather than just simply averaging the prediction of trees, this model uses two key concepts that gives it the name random:\n",
    "    * Random sampling of training data points when building trees\n",
    "    * Random subsets of features considered when splitting nodes"
   ]
  },
  {
   "cell_type": "code",
   "execution_count": 9,
   "metadata": {},
   "outputs": [
    {
     "name": "stdout",
     "output_type": "stream",
     "text": [
      "Training with Title as a feature:\n",
      "\n",
      "Accuracy: 67.059 %\n",
      "                    precision    recall  f1-score   support\n",
      "\n",
      "         Scheduled       0.89      0.81      0.85        48\n",
      "          Politics       0.52      0.54      0.53        57\n",
      "       Photography       0.87      0.87      0.87        55\n",
      "       Coronavirus       0.83      0.71      0.76        41\n",
      "    Policy/Economy       0.94      0.84      0.89        37\n",
      "          AskIndia       0.70      0.66      0.68        47\n",
      "            Sports       0.38      0.47      0.42        45\n",
      "     Non-Political       0.78      0.63      0.70        46\n",
      "Science/Technology       0.57      0.57      0.57        42\n",
      "              Food       0.45      0.64      0.53        44\n",
      "  Business/Finance       0.74      0.65      0.69        48\n",
      "\n",
      "          accuracy                           0.67       510\n",
      "         macro avg       0.70      0.67      0.68       510\n",
      "      weighted avg       0.69      0.67      0.68       510\n",
      "\n",
      "Training with Body as a feature:\n",
      "\n",
      "Accuracy: 39.02 %\n",
      "                    precision    recall  f1-score   support\n",
      "\n",
      "         Scheduled       0.34      0.69      0.46        48\n",
      "          Politics       0.69      0.58      0.63        57\n",
      "       Photography       0.20      0.84      0.32        55\n",
      "       Coronavirus       0.40      0.10      0.16        41\n",
      "    Policy/Economy       0.12      0.03      0.04        37\n",
      "          AskIndia       0.74      0.30      0.42        47\n",
      "            Sports       0.63      0.38      0.47        45\n",
      "     Non-Political       0.36      0.09      0.14        46\n",
      "Science/Technology       0.76      0.38      0.51        42\n",
      "              Food       0.72      0.41      0.52        44\n",
      "  Business/Finance       0.81      0.27      0.41        48\n",
      "\n",
      "          accuracy                           0.39       510\n",
      "         macro avg       0.53      0.37      0.37       510\n",
      "      weighted avg       0.53      0.39      0.38       510\n",
      "\n"
     ]
    }
   ],
   "source": [
    "def rf_model(X_train, X_test, Y_train, Y_test):\n",
    "    rf = Pipeline([('vect', CountVectorizer()),\n",
    "                       ('tfidf', TfidfTransformer()),\n",
    "                       ('clf', RandomForestClassifier(n_estimators = 100, random_state = 21))\n",
    "                      ])\n",
    "    rf.fit(X_train, Y_train)\n",
    "    Y_pred = rf.predict(X_test)\n",
    "    acc = round(accuracy_score(Y_pred, Y_test)*100,3)\n",
    "    print(\"Accuracy:\", acc, \"%\")\n",
    "    print(classification_report(Y_test, Y_pred, target_names=flairs))\n",
    "\n",
    "print(\"Training with Title as a feature:\\n\")\n",
    "X_train, X_test, Y_train, Y_test = split_dataset(X_title,labels)\n",
    "rf_model(X_train, X_test, Y_train, Y_test)\n",
    "\n",
    "print(\"Training with Body as a feature:\\n\")\n",
    "X_train, X_test, Y_train, Y_test = split_dataset(X_body,labels)\n",
    "rf_model(X_train, X_test, Y_train, Y_test)"
   ]
  },
  {
   "cell_type": "markdown",
   "metadata": {},
   "source": [
    "### 5) Multi-Layer Perceptron Classifier\n",
    "\n",
    "* An MLP Classifier is a modeled Neural Network\n",
    "* Unlike other classification algorithms such as Support Vectors or Naive Bayes Classifier, MLP Classifier relies on an underlying Neural Network to perform the task of classification"
   ]
  },
  {
   "cell_type": "code",
   "execution_count": 10,
   "metadata": {},
   "outputs": [
    {
     "name": "stdout",
     "output_type": "stream",
     "text": [
      "Training with Title as a feature:\n",
      "\n",
      "Accuracy: 54.706 %\n",
      "                    precision    recall  f1-score   support\n",
      "\n",
      "         Scheduled       0.67      0.54      0.60        48\n",
      "          Politics       0.43      0.39      0.41        57\n",
      "       Photography       0.68      0.58      0.63        55\n",
      "       Coronavirus       0.70      0.51      0.59        41\n",
      "    Policy/Economy       0.67      0.59      0.63        37\n",
      "          AskIndia       0.56      0.62      0.59        47\n",
      "            Sports       0.38      0.51      0.44        45\n",
      "     Non-Political       0.42      0.63      0.50        46\n",
      "Science/Technology       0.57      0.57      0.57        42\n",
      "              Food       0.52      0.55      0.53        44\n",
      "  Business/Finance       0.66      0.56      0.61        48\n",
      "\n",
      "          accuracy                           0.55       510\n",
      "         macro avg       0.57      0.55      0.55       510\n",
      "      weighted avg       0.57      0.55      0.55       510\n",
      "\n",
      "Training with Body as a feature:\n",
      "\n",
      "Accuracy: 33.529 %\n",
      "                    precision    recall  f1-score   support\n",
      "\n",
      "         Scheduled       0.38      0.21      0.27        48\n",
      "          Politics       0.72      0.49      0.58        57\n",
      "       Photography       0.20      0.85      0.33        55\n",
      "       Coronavirus       0.22      0.05      0.08        41\n",
      "    Policy/Economy       0.33      0.08      0.13        37\n",
      "          AskIndia       0.56      0.19      0.29        47\n",
      "            Sports       0.56      0.22      0.32        45\n",
      "     Non-Political       0.31      0.11      0.16        46\n",
      "Science/Technology       0.55      0.40      0.47        42\n",
      "              Food       0.30      0.48      0.37        44\n",
      "  Business/Finance       0.42      0.40      0.41        48\n",
      "\n",
      "          accuracy                           0.34       510\n",
      "         macro avg       0.41      0.32      0.31       510\n",
      "      weighted avg       0.42      0.34      0.32       510\n",
      "\n"
     ]
    }
   ],
   "source": [
    "def mlp_model(X_train, X_test, Y_train, Y_test):\n",
    "    mlp = Pipeline([('vect', CountVectorizer()),\n",
    "                    ('tfidf', TfidfTransformer()),\n",
    "                    ('clf', MLPClassifier(hidden_layer_sizes=(128,64,32), activation='relu', solver='adam', max_iter=500, random_state=21))\n",
    "                   ])\n",
    "    mlp.fit(X_train, Y_train)\n",
    "    Y_pred = mlp.predict(X_test)\n",
    "    acc = round(accuracy_score(Y_pred, Y_test)*100,3)\n",
    "    print(\"Accuracy:\", acc, \"%\")\n",
    "    print(classification_report(Y_test, Y_pred, target_names=flairs))\n",
    "\n",
    "print(\"Training with Title as a feature:\\n\")\n",
    "X_train, X_test, Y_train, Y_test = split_dataset(X_title,labels)\n",
    "mlp_model(X_train, X_test, Y_train, Y_test)\n",
    "\n",
    "print(\"Training with Body as a feature:\\n\")\n",
    "X_train, X_test, Y_train, Y_test = split_dataset(X_body,labels)\n",
    "mlp_model(X_train, X_test, Y_train, Y_test)"
   ]
  },
  {
   "cell_type": "markdown",
   "metadata": {},
   "source": [
    "## LSTM - Long Short-Term Memory\n",
    "\n",
    "---\n",
    "\n",
    "We humans can remember previous references of words to derive the meaning and context of future words. For example, while reading this sentence, you need to be able to remember at least the last few previous words to make sense of *this* text. Hence, we can safely say that information we acciqure *persists* in the brain.\n",
    "\n",
    "But in the case of traditional Neural network models, to make information persist is a different ball game. Recurrent neural networks address this issue. They are networks with loops in them, allowing information to persist. A recurrent neural network can be thought of as multiple copies of the same network, each passing a message to a successor.\n",
    "\n",
    "Long Short Term Memory networks – usually just called “LSTMs” – are a special kind of RNN, capable of learning long-term dependencies.\n",
    "\n",
    "<img src=\"https://colah.github.io/posts/2015-08-Understanding-LSTMs/img/LSTM3-chain.png\" alt=\"lstm\" width=\"500\"/>\n",
    "\n",
    "Let's implement a regualar LSTM model and try to fit the data:\n",
    "* First we to encode the labels (flairs) and convert them to categorical values before feeding them to the network\n",
    "* Then we Tokenize the ```title``` values, generate unique numbers for each word in the corpus and then rebuild the sentences using these values\n",
    "* To make sure we're feeding sentences with equal length, we also pad our shorter sentences with 0\n",
    "* We won't use the ```body``` values for prediction as their accuracy is lower than expected\n",
    "* Split dataset into train and test\n",
    "* Build a model using a single Embedding and LSTM layer. Feed the LSTM sequences to a dense neural network for classification\n",
    "* From the accuracy and loss progression plots, we can see that the model is clearly **overfitting**"
   ]
  },
  {
   "cell_type": "code",
   "execution_count": 11,
   "metadata": {},
   "outputs": [],
   "source": [
    "le = LabelEncoder()\n",
    "cleaned_data['flair'] = le.fit_transform(cleaned_data['flair'])\n",
    "cat_values = to_categorical(cleaned_data['flair'], num_classes=11, dtype='int64')"
   ]
  },
  {
   "cell_type": "code",
   "execution_count": 12,
   "metadata": {},
   "outputs": [
    {
     "name": "stdout",
     "output_type": "stream",
     "text": [
      "Found 7263 unique tokens.\n"
     ]
    }
   ],
   "source": [
    "top_words = 8000\n",
    "max_len = 35\n",
    "\n",
    "tokenizer = Tokenizer(num_words=top_words, filters='!\"#$%&()*+,-./:;<=>?@[\\]^_`{|}~', lower=True)\n",
    "tokenizer.fit_on_texts(cleaned_data['title'].values)\n",
    "sequences = tokenizer.texts_to_sequences(cleaned_data['title'].values)\n",
    "word_index = tokenizer.word_index\n",
    "print('Found %s unique tokens.' % len(word_index))\n",
    "\n",
    "X = pad_sequences(sequences, maxlen=max_len)"
   ]
  },
  {
   "cell_type": "code",
   "execution_count": 13,
   "metadata": {},
   "outputs": [
    {
     "name": "stdout",
     "output_type": "stream",
     "text": [
      "((2295, 35), (2295, 11), (255, 35), (255, 11))\n"
     ]
    }
   ],
   "source": [
    "X_train, X_test, Y_train, Y_test = train_test_split(X , cat_values, test_size=0.10, random_state=42)\n",
    "print((X_train.shape, Y_train.shape, X_test.shape, Y_test.shape))"
   ]
  },
  {
   "cell_type": "code",
   "execution_count": 14,
   "metadata": {},
   "outputs": [
    {
     "name": "stdout",
     "output_type": "stream",
     "text": [
      "Model: \"sequential_1\"\n",
      "_________________________________________________________________\n",
      "Layer (type)                 Output Shape              Param #   \n",
      "=================================================================\n",
      "embedding_1 (Embedding)      (None, 35, 128)           1024000   \n",
      "_________________________________________________________________\n",
      "dropout_1 (Dropout)          (None, 35, 128)           0         \n",
      "_________________________________________________________________\n",
      "lstm_1 (LSTM)                (None, 256)               394240    \n",
      "_________________________________________________________________\n",
      "dense_1 (Dense)              (None, 128)               32896     \n",
      "_________________________________________________________________\n",
      "dropout_2 (Dropout)          (None, 128)               0         \n",
      "_________________________________________________________________\n",
      "dense_2 (Dense)              (None, 11)                1419      \n",
      "=================================================================\n",
      "Total params: 1,452,555\n",
      "Trainable params: 1,452,555\n",
      "Non-trainable params: 0\n",
      "_________________________________________________________________\n"
     ]
    }
   ],
   "source": [
    "epochs = 50\n",
    "emb_dim = 128\n",
    "batch_size = 32\n",
    "\n",
    "model = Sequential()\n",
    "model.add(Embedding(top_words,emb_dim, input_length=35))\n",
    "model.add(Dropout(0.5))\n",
    "model.add(LSTM(256))\n",
    "model.add(Dense(128, activation='relu'))\n",
    "model.add(Dropout(0.4))\n",
    "model.add(Dense(11, activation='softmax'))\n",
    "\n",
    "model.summary()"
   ]
  },
  {
   "cell_type": "code",
   "execution_count": 15,
   "metadata": {},
   "outputs": [
    {
     "name": "stdout",
     "output_type": "stream",
     "text": [
      "WARNING:tensorflow:From /home/abhiroop/anaconda3/lib/python3.7/site-packages/keras/backend/tensorflow_backend.py:422: The name tf.global_variables is deprecated. Please use tf.compat.v1.global_variables instead.\n",
      "\n",
      "Train on 1836 samples, validate on 459 samples\n",
      "Epoch 1/50\n",
      "1836/1836 [==============================] - 9s 5ms/step - loss: 2.3834 - acc: 0.1318 - val_loss: 2.3450 - val_acc: 0.1895\n",
      "Epoch 2/50\n",
      "1836/1836 [==============================] - 6s 3ms/step - loss: 2.0201 - acc: 0.3371 - val_loss: 1.8269 - val_acc: 0.3834\n",
      "Epoch 3/50\n",
      "1836/1836 [==============================] - 6s 3ms/step - loss: 1.2881 - acc: 0.5861 - val_loss: 1.4415 - val_acc: 0.5708\n",
      "Epoch 4/50\n",
      "1836/1836 [==============================] - 6s 3ms/step - loss: 0.7758 - acc: 0.7691 - val_loss: 1.3002 - val_acc: 0.5969\n",
      "Epoch 5/50\n",
      "1836/1836 [==============================] - 6s 3ms/step - loss: 0.4730 - acc: 0.8742 - val_loss: 1.3149 - val_acc: 0.6362\n",
      "Epoch 6/50\n",
      "1836/1836 [==============================] - 6s 3ms/step - loss: 0.2890 - acc: 0.9292 - val_loss: 1.4242 - val_acc: 0.6340\n"
     ]
    }
   ],
   "source": [
    "model.compile(optimizer='adam', loss='categorical_crossentropy', metrics=['acc'])\n",
    "\n",
    "history = model.fit(X_train, Y_train, epochs=epochs, batch_size=batch_size, validation_split=0.2, callbacks=[EarlyStopping(monitor='val_loss', patience=2, min_delta=0.0001)])"
   ]
  },
  {
   "cell_type": "code",
   "execution_count": 16,
   "metadata": {},
   "outputs": [
    {
     "name": "stdout",
     "output_type": "stream",
     "text": [
      "255/255 [==============================] - 0s 866us/step\n",
      "Test set\n",
      "  Loss: 1.389\n",
      "  Accuracy: 0.635\n"
     ]
    }
   ],
   "source": [
    "preds = model.evaluate(X_test,Y_test)\n",
    "print('Test set\\n  Loss: {:0.3f}\\n  Accuracy: {:0.3f}'.format(preds[0],preds[1]))"
   ]
  },
  {
   "cell_type": "code",
   "execution_count": 17,
   "metadata": {},
   "outputs": [
    {
     "data": {
      "image/png": "[encoded data removed]",
      "text/plain": [
       "<Figure size 432x288 with 1 Axes>"
      ]
     },
     "metadata": {
      "needs_background": "light"
     },
     "output_type": "display_data"
    },
    {
     "data": {
      "image/png": "[encoded data removed]",
      "text/plain": [
       "<Figure size 432x288 with 1 Axes>"
      ]
     },
     "metadata": {
      "needs_background": "light"
     },
     "output_type": "display_data"
    }
   ],
   "source": [
    "def plot_predictions():\n",
    "    acc = history.history['acc']\n",
    "    val_acc = history.history['val_acc']\n",
    "    loss = history.history['loss']\n",
    "    val_loss = history.history['val_loss']\n",
    "\n",
    "    epochs = range(1, len(acc) + 1)\n",
    "\n",
    "    plt.plot(epochs, acc, label='Training acc')\n",
    "    plt.plot(epochs, val_acc, label='Validation acc')\n",
    "    plt.title('Training and validation accuracy')\n",
    "    plt.legend()\n",
    "    plt.figure()\n",
    "\n",
    "    plt.plot(epochs, loss, label='Training loss')\n",
    "    plt.plot(epochs, val_loss, label='Validation loss')\n",
    "    plt.title('Training and validation loss')\n",
    "    plt.legend()\n",
    "    plt.show()\n",
    "    \n",
    "plot_predictions()"
   ]
  },
  {
   "cell_type": "markdown",
   "metadata": {},
   "source": [
    "# Multichannel Convolutional Neural Network\n",
    "\n",
    "A standard model for document classification is to use an Embedding layer as input, followed by a one-dimensional convolutional neural network, pooling layer, and then a prediction output layer.\n",
    "\n",
    "The kernel size in the convolutional layer defines the number of words to consider as the convolution is passed across the input text document, providing a grouping parameter.\n",
    "\n",
    "A multi-channel convolutional neural network for document classification involves using multiple versions of the standard model with different sized kernels. This allows the document to be processed at different resolutions or different n-grams (groups of words) at a time, whilst the model learns how to best integrate these interpretations.\n",
    "\n",
    "<img src=\"https://3qeqpr26caki16dnhd19sv6by6v-wpengine.netdna-ssl.com/wp-content/uploads/2017/10/Depiction-of-the-multiple-channel-convolutional-neural-network-for-text.png\" alt=\"mcnn\" width=\"600\"/>\n",
    "\n",
    "<img src=\"https://media.springernature.com/full/springer-static/image/art%3A10.1038%2Fs41598-018-37387-9/MediaObjects/41598_2018_37387_Fig9_HTML.png?as=webp\" alt=\"flow\" width=\"600\"/>\n",
    "\n",
    "We will define a model with three input channels for processing 4-grams, 6-grams, and 8-grams of text.\n",
    "\n",
    "Each channel is comprised of the following elements:\n",
    "* Input layer that defines the length of input sequences.\n",
    "* Embedding layer set to the size of the vocabulary and 100-dimensional real-valued representations.\n",
    "* One-dimensional convolutional layer with 32 filters and a kernel size set to the number of words to read at once.\n",
    "* Max Pooling layer to consolidate the output from the convolutional layer.\n",
    "* Flatten layer to reduce the three-dimensional output to two dimensional for concatenation.\n",
    "\n",
    "The output from the three channels are concatenated into a single vector and process by a Dense layer and an output layer.\n"
   ]
  },
  {
   "cell_type": "code",
   "execution_count": 18,
   "metadata": {},
   "outputs": [
    {
     "name": "stdout",
     "output_type": "stream",
     "text": [
      "WARNING:tensorflow:From /home/abhiroop/anaconda3/lib/python3.7/site-packages/keras/backend/tensorflow_backend.py:4070: The name tf.nn.max_pool is deprecated. Please use tf.nn.max_pool2d instead.\n",
      "\n",
      "Model: \"model_1\"\n",
      "__________________________________________________________________________________________________\n",
      "Layer (type)                    Output Shape         Param #     Connected to                     \n",
      "==================================================================================================\n",
      "input_1 (InputLayer)            (None, 35)           0                                            \n",
      "__________________________________________________________________________________________________\n",
      "input_2 (InputLayer)            (None, 35)           0                                            \n",
      "__________________________________________________________________________________________________\n",
      "input_3 (InputLayer)            (None, 35)           0                                            \n",
      "__________________________________________________________________________________________________\n",
      "embedding_2 (Embedding)         (None, 35, 128)      1024000     input_1[0][0]                    \n",
      "__________________________________________________________________________________________________\n",
      "embedding_3 (Embedding)         (None, 35, 128)      1024000     input_2[0][0]                    \n",
      "__________________________________________________________________________________________________\n",
      "embedding_4 (Embedding)         (None, 35, 128)      1024000     input_3[0][0]                    \n",
      "__________________________________________________________________________________________________\n",
      "conv1d_1 (Conv1D)               (None, 32, 32)       16416       embedding_2[0][0]                \n",
      "__________________________________________________________________________________________________\n",
      "conv1d_2 (Conv1D)               (None, 30, 32)       24608       embedding_3[0][0]                \n",
      "__________________________________________________________________________________________________\n",
      "conv1d_3 (Conv1D)               (None, 28, 32)       32800       embedding_4[0][0]                \n",
      "__________________________________________________________________________________________________\n",
      "dropout_3 (Dropout)             (None, 32, 32)       0           conv1d_1[0][0]                   \n",
      "__________________________________________________________________________________________________\n",
      "dropout_4 (Dropout)             (None, 30, 32)       0           conv1d_2[0][0]                   \n",
      "__________________________________________________________________________________________________\n",
      "dropout_5 (Dropout)             (None, 28, 32)       0           conv1d_3[0][0]                   \n",
      "__________________________________________________________________________________________________\n",
      "max_pooling1d_1 (MaxPooling1D)  (None, 16, 32)       0           dropout_3[0][0]                  \n",
      "__________________________________________________________________________________________________\n",
      "max_pooling1d_2 (MaxPooling1D)  (None, 15, 32)       0           dropout_4[0][0]                  \n",
      "__________________________________________________________________________________________________\n",
      "max_pooling1d_3 (MaxPooling1D)  (None, 14, 32)       0           dropout_5[0][0]                  \n",
      "__________________________________________________________________________________________________\n",
      "flatten_1 (Flatten)             (None, 512)          0           max_pooling1d_1[0][0]            \n",
      "__________________________________________________________________________________________________\n",
      "flatten_2 (Flatten)             (None, 480)          0           max_pooling1d_2[0][0]            \n",
      "__________________________________________________________________________________________________\n",
      "flatten_3 (Flatten)             (None, 448)          0           max_pooling1d_3[0][0]            \n",
      "__________________________________________________________________________________________________\n",
      "concatenate_1 (Concatenate)     (None, 1440)         0           flatten_1[0][0]                  \n",
      "                                                                 flatten_2[0][0]                  \n",
      "                                                                 flatten_3[0][0]                  \n",
      "__________________________________________________________________________________________________\n",
      "dense_3 (Dense)                 (None, 10)           14410       concatenate_1[0][0]              \n",
      "__________________________________________________________________________________________________\n",
      "dense_4 (Dense)                 (None, 11)           121         dense_3[0][0]                    \n",
      "==================================================================================================\n",
      "Total params: 3,160,355\n",
      "Trainable params: 3,160,355\n",
      "Non-trainable params: 0\n",
      "__________________________________________________________________________________________________\n",
      "None\n",
      "WARNING:tensorflow:From /home/abhiroop/anaconda3/lib/python3.7/site-packages/tensorflow/python/ops/math_grad.py:1250: add_dispatch_support.<locals>.wrapper (from tensorflow.python.ops.array_ops) is deprecated and will be removed in a future version.\n",
      "Instructions for updating:\n",
      "Use tf.where in 2.0, which has the same broadcast rule as np.where\n",
      "Train on 1836 samples, validate on 459 samples\n",
      "Epoch 1/10\n",
      "1836/1836 [==============================] - 7s 4ms/step - loss: 0.3038 - acc: 0.9091 - val_loss: 0.3014 - val_acc: 0.9091\n",
      "Epoch 2/10\n",
      "1836/1836 [==============================] - 5s 3ms/step - loss: 0.2643 - acc: 0.9125 - val_loss: 0.2495 - val_acc: 0.9158\n",
      "Epoch 3/10\n",
      "1836/1836 [==============================] - 5s 3ms/step - loss: 0.1742 - acc: 0.9328 - val_loss: 0.2176 - val_acc: 0.9281\n",
      "Epoch 4/10\n",
      "1836/1836 [==============================] - 5s 3ms/step - loss: 0.1081 - acc: 0.9600 - val_loss: 0.2079 - val_acc: 0.9354\n",
      "Epoch 5/10\n",
      "1836/1836 [==============================] - 5s 3ms/step - loss: 0.0650 - acc: 0.9802 - val_loss: 0.2178 - val_acc: 0.9331\n",
      "Epoch 6/10\n",
      "1836/1836 [==============================] - 5s 3ms/step - loss: 0.0444 - acc: 0.9872 - val_loss: 0.2217 - val_acc: 0.9303\n"
     ]
    }
   ],
   "source": [
    "def define_model(length, vocab_size):\n",
    "    # channel 1\n",
    "    inputs1 = Input(shape=(length,))\n",
    "    embedding1 = Embedding(vocab_size, 128)(inputs1)\n",
    "    conv1 = Conv1D(filters=32, kernel_size=4, activation='relu')(embedding1)\n",
    "    drop1 = Dropout(0.5)(conv1)\n",
    "    pool1 = MaxPooling1D(pool_size=2)(drop1)\n",
    "    flat1 = Flatten()(pool1)\n",
    "    # channel 2\n",
    "    inputs2 = Input(shape=(length,))\n",
    "    embedding2 = Embedding(vocab_size, 128)(inputs2)\n",
    "    conv2 = Conv1D(filters=32, kernel_size=6, activation='relu')(embedding2)\n",
    "    drop2 = Dropout(0.5)(conv2)\n",
    "    pool2 = MaxPooling1D(pool_size=2)(drop2)\n",
    "    flat2 = Flatten()(pool2)\n",
    "    # channel 3\n",
    "    inputs3 = Input(shape=(length,))\n",
    "    embedding3 = Embedding(vocab_size, 128)(inputs3)\n",
    "    conv3 = Conv1D(filters=32, kernel_size=8, activation='relu')(embedding3)\n",
    "    drop3 = Dropout(0.5)(conv3)\n",
    "    pool3 = MaxPooling1D(pool_size=2)(drop3)\n",
    "    flat3 = Flatten()(pool3)\n",
    "    # merge\n",
    "    merged = concatenate([flat1, flat2, flat3])\n",
    "    dense1 = Dense(10, activation='relu')(merged)\n",
    "    outputs = Dense(11, activation='softmax')(dense1)\n",
    "    model = Model(inputs=[inputs1, inputs2, inputs3], outputs=outputs)\n",
    "    model.compile(loss='binary_crossentropy', optimizer='adam', metrics=['acc'])\n",
    "    print(model.summary())\n",
    "    return model\n",
    "\n",
    "model = define_model(max_len, top_words)\n",
    "\n",
    "history = model.fit([X_train,X_train,X_train], np.array(Y_train), epochs=10, batch_size=16, validation_split=0.2, callbacks=[EarlyStopping(monitor='val_loss',patience=2, min_delta=0.0001)])\n"
   ]
  },
  {
   "cell_type": "code",
   "execution_count": 19,
   "metadata": {},
   "outputs": [
    {
     "name": "stdout",
     "output_type": "stream",
     "text": [
      "255/255 [==============================] - 0s 278us/step\n",
      "Test set\n",
      "  Loss: 0.227\n",
      "  Accuracy: 0.927\n"
     ]
    }
   ],
   "source": [
    "preds = model.evaluate([X_test,X_test,X_test], np.array(Y_test))\n",
    "print('Test set\\n  Loss: {:0.3f}\\n  Accuracy: {:0.3f}'.format(preds[0],preds[1]))"
   ]
  },
  {
   "cell_type": "code",
   "execution_count": 21,
   "metadata": {},
   "outputs": [],
   "source": [
    "# save the model and tokenizer to disk\n",
    "model.save(\"../models/model.h5\")\n",
    "\n",
    "with open('../models/tokenizer.pickle', 'wb') as handle:\n",
    "    pickle.dump(tokenizer, handle, protocol=pickle.HIGHEST_PROTOCOL)"
   ]
  }
 ],
 "metadata": {
  "kernelspec": {
   "display_name": "Python 3",
   "language": "python",
   "name": "python3"
  },
  "language_info": {
   "codemirror_mode": {
    "name": "ipython",
    "version": 3
   },
   "file_extension": ".py",
   "mimetype": "text/x-python",
   "name": "python",
   "nbconvert_exporter": "python",
   "pygments_lexer": "ipython3",
   "version": "3.7.6"
  }
 },
 "nbformat": 4,
 "nbformat_minor": 4
}
