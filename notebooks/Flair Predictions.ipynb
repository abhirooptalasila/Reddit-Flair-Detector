{
 "cells": [
  {
   "cell_type": "markdown",
   "metadata": {},
   "source": [
    "# Reddit Flair Predictor\n",
    "\n",
    "---\n",
    "\n",
    "### 1) Import required modules"
   ]
  },
  {
   "cell_type": "code",
   "execution_count": 1,
   "metadata": {
    "collapsed": true,
    "jupyter": {
     "outputs_hidden": true
    }
   },
   "outputs": [
    {
     "name": "stderr",
     "output_type": "stream",
     "text": [
      "Using TensorFlow backend.\n",
      "/home/abhiroop/anaconda3/lib/python3.7/site-packages/tensorflow/python/framework/dtypes.py:516: FutureWarning: Passing (type, 1) or '1type' as a synonym of type is deprecated; in a future version of numpy, it will be understood as (type, (1,)) / '(1,)type'.\n",
      "  _np_qint8 = np.dtype([(\"qint8\", np.int8, 1)])\n",
      "/home/abhiroop/anaconda3/lib/python3.7/site-packages/tensorflow/python/framework/dtypes.py:517: FutureWarning: Passing (type, 1) or '1type' as a synonym of type is deprecated; in a future version of numpy, it will be understood as (type, (1,)) / '(1,)type'.\n",
      "  _np_quint8 = np.dtype([(\"quint8\", np.uint8, 1)])\n",
      "/home/abhiroop/anaconda3/lib/python3.7/site-packages/tensorflow/python/framework/dtypes.py:518: FutureWarning: Passing (type, 1) or '1type' as a synonym of type is deprecated; in a future version of numpy, it will be understood as (type, (1,)) / '(1,)type'.\n",
      "  _np_qint16 = np.dtype([(\"qint16\", np.int16, 1)])\n",
      "/home/abhiroop/anaconda3/lib/python3.7/site-packages/tensorflow/python/framework/dtypes.py:519: FutureWarning: Passing (type, 1) or '1type' as a synonym of type is deprecated; in a future version of numpy, it will be understood as (type, (1,)) / '(1,)type'.\n",
      "  _np_quint16 = np.dtype([(\"quint16\", np.uint16, 1)])\n",
      "/home/abhiroop/anaconda3/lib/python3.7/site-packages/tensorflow/python/framework/dtypes.py:520: FutureWarning: Passing (type, 1) or '1type' as a synonym of type is deprecated; in a future version of numpy, it will be understood as (type, (1,)) / '(1,)type'.\n",
      "  _np_qint32 = np.dtype([(\"qint32\", np.int32, 1)])\n",
      "/home/abhiroop/anaconda3/lib/python3.7/site-packages/tensorflow/python/framework/dtypes.py:525: FutureWarning: Passing (type, 1) or '1type' as a synonym of type is deprecated; in a future version of numpy, it will be understood as (type, (1,)) / '(1,)type'.\n",
      "  np_resource = np.dtype([(\"resource\", np.ubyte, 1)])\n",
      "/home/abhiroop/anaconda3/lib/python3.7/site-packages/tensorboard/compat/tensorflow_stub/dtypes.py:541: FutureWarning: Passing (type, 1) or '1type' as a synonym of type is deprecated; in a future version of numpy, it will be understood as (type, (1,)) / '(1,)type'.\n",
      "  _np_qint8 = np.dtype([(\"qint8\", np.int8, 1)])\n",
      "/home/abhiroop/anaconda3/lib/python3.7/site-packages/tensorboard/compat/tensorflow_stub/dtypes.py:542: FutureWarning: Passing (type, 1) or '1type' as a synonym of type is deprecated; in a future version of numpy, it will be understood as (type, (1,)) / '(1,)type'.\n",
      "  _np_quint8 = np.dtype([(\"quint8\", np.uint8, 1)])\n",
      "/home/abhiroop/anaconda3/lib/python3.7/site-packages/tensorboard/compat/tensorflow_stub/dtypes.py:543: FutureWarning: Passing (type, 1) or '1type' as a synonym of type is deprecated; in a future version of numpy, it will be understood as (type, (1,)) / '(1,)type'.\n",
      "  _np_qint16 = np.dtype([(\"qint16\", np.int16, 1)])\n",
      "/home/abhiroop/anaconda3/lib/python3.7/site-packages/tensorboard/compat/tensorflow_stub/dtypes.py:544: FutureWarning: Passing (type, 1) or '1type' as a synonym of type is deprecated; in a future version of numpy, it will be understood as (type, (1,)) / '(1,)type'.\n",
      "  _np_quint16 = np.dtype([(\"quint16\", np.uint16, 1)])\n",
      "/home/abhiroop/anaconda3/lib/python3.7/site-packages/tensorboard/compat/tensorflow_stub/dtypes.py:545: FutureWarning: Passing (type, 1) or '1type' as a synonym of type is deprecated; in a future version of numpy, it will be understood as (type, (1,)) / '(1,)type'.\n",
      "  _np_qint32 = np.dtype([(\"qint32\", np.int32, 1)])\n",
      "/home/abhiroop/anaconda3/lib/python3.7/site-packages/tensorboard/compat/tensorflow_stub/dtypes.py:550: FutureWarning: Passing (type, 1) or '1type' as a synonym of type is deprecated; in a future version of numpy, it will be understood as (type, (1,)) / '(1,)type'.\n",
      "  np_resource = np.dtype([(\"resource\", np.ubyte, 1)])\n"
     ]
    }
   ],
   "source": [
    "import pickle\n",
    "import os\n",
    "import warnings\n",
    "import praw\n",
    "import pandas as pd\n",
    "import string\n",
    "import nltk\n",
    "import numpy as np\n",
    "from keras.preprocessing.sequence import pad_sequences\n",
    "from tensorflow.keras.models import load_model\n",
    "from nltk.corpus import stopwords\n",
    "warnings.filterwarnings('ignore')"
   ]
  },
  {
   "cell_type": "markdown",
   "metadata": {},
   "source": [
    "### 2) Create a PRAW API instance and load model with tokenizer"
   ]
  },
  {
   "cell_type": "code",
   "execution_count": 2,
   "metadata": {
    "collapsed": true,
    "jupyter": {
     "outputs_hidden": true
    }
   },
   "outputs": [
    {
     "name": "stdout",
     "output_type": "stream",
     "text": [
      "WARNING:tensorflow:From /home/abhiroop/anaconda3/lib/python3.7/site-packages/tensorflow/python/keras/initializers.py:119: calling RandomUniform.__init__ (from tensorflow.python.ops.init_ops) with dtype is deprecated and will be removed in a future version.\n",
      "Instructions for updating:\n",
      "Call initializer instance with the dtype argument instead of passing it to the constructor\n",
      "WARNING:tensorflow:From /home/abhiroop/anaconda3/lib/python3.7/site-packages/tensorflow/python/ops/math_grad.py:1250: add_dispatch_support.<locals>.wrapper (from tensorflow.python.ops.array_ops) is deprecated and will be removed in a future version.\n",
      "Instructions for updating:\n",
      "Use tf.where in 2.0, which has the same broadcast rule as np.where\n"
     ]
    }
   ],
   "source": [
    "reddit = praw.Reddit(client_id='#', client_secret='#', user_agent='#')\n",
    "model = load_model(\"../models/model.h5\")\n",
    "\n",
    "with open('../models/tokenizer.pickle', 'rb') as handle:\n",
    "    tokenizer = pickle.load(handle)"
   ]
  },
  {
   "cell_type": "markdown",
   "metadata": {},
   "source": [
    "### 3) Define helper functions to clean text and predict flair"
   ]
  },
  {
   "cell_type": "code",
   "execution_count": 3,
   "metadata": {},
   "outputs": [],
   "source": [
    "def nltk_clean(field):\n",
    "    # remove punctuation from each word\n",
    "    words = field.split(\" \")\n",
    "    table = str.maketrans('', '', string.punctuation)\n",
    "    stripped = [w.translate(table) for w in words]\n",
    "    field = ' '.join(stripped)\n",
    "\n",
    "    # filter out stop words\n",
    "    words = field.split(\" \")\n",
    "    stop_words = set(stopwords.words('english'))\n",
    "    words = [w for w in words if not w in stop_words]\n",
    "    field = ' '.join(words)\n",
    "    return field\n",
    "\n",
    "def predict_title(title):\n",
    "    sequences = tokenizer.texts_to_sequences([title])\n",
    "    word_index = tokenizer.word_index\n",
    "    #print('Found %s unique tokens.' % len(word_index))\n",
    "    #print(':',sequences) #list\n",
    "    X = pad_sequences(sequences, maxlen=35)\n",
    "    result = model.predict([X,X,X])\n",
    "    return np.argmax(result,axis=-1)"
   ]
  },
  {
   "cell_type": "markdown",
   "metadata": {},
   "source": [
    "### 4) Fetch top 10 posts from ```r/india``` and predict their flair"
   ]
  },
  {
   "cell_type": "code",
   "execution_count": 4,
   "metadata": {},
   "outputs": [
    {
     "name": "stdout",
     "output_type": "stream",
     "text": [
      "Title is: Will donate thrice the number of upvotes (amount in Rs.) i get for this thread in next 24 hours\n",
      "Original Flair is: [R]eddiquette\n",
      "Predicted Flair is: Business/Finance\n",
      "\n",
      "Title is: Indian reply to NYtimes cartoon on Paris climate accord by Satish Acharya.\n",
      "Original Flair is: /r/all\n",
      "Predicted Flair is: Policy/Economy\n",
      "\n",
      "Title is: The essence of the Indian soap opera, distilled into one GIF.\n",
      "Original Flair is: r/all\n",
      "Predicted Flair is: Policy/Economy\n",
      "\n",
      "Title is: Fuck all Religion\n",
      "Original Flair is: Politics\n",
      "Predicted Flair is: Business/Finance\n",
      "\n",
      "Title is: German exchange Student at IIT Madras is being sent back home by the Indian immigration department because he joined the protest.\n",
      "Original Flair is: Politics\n",
      "Predicted Flair is: Politics\n",
      "\n",
      "Title is: Tragedy of India\n",
      "Original Flair is: r/all\n",
      "Predicted Flair is: Policy/Economy\n",
      "\n",
      "Title is: Today's The Hindu\n",
      "Original Flair is: Coronavirus\n",
      "Predicted Flair is: Policy/Economy\n",
      "\n",
      "Title is: If you are not moved by this picture, I wish I had your heart. [NP]\n",
      "Original Flair is: Non-Political\n",
      "Predicted Flair is: Policy/Economy\n",
      "\n",
      "Title is: Megathread: India-Pakistan border skirmish\n",
      "Original Flair is: [R]eddiquette\n",
      "Predicted Flair is: Policy/Economy\n",
      "\n",
      "Title is: \"From midnight the entire country will go under a complete lockdown,\" says PM Modi.\n",
      "Original Flair is: Politics [Megathread]\n",
      "Predicted Flair is: Food\n",
      "\n"
     ]
    }
   ],
   "source": [
    "dict = {8:\"Scheduled\", 7:\"Politics\",5:\"Photography\",6:\"Policy/Economy\",3:\"Food\", 2:\"Coronavirus\",1:\"Business/Finance\",4:\"Non-Political\",9:\"Science/Technology\",10:\"Sports\",0:\"AskIndia\"}\n",
    "# [R]eddiquette has been discontinued\n",
    "\n",
    "subreddit = reddit.subreddit('india')\n",
    "for submission in subreddit.top(limit=10):\n",
    "    print(\"Title is:\" , submission.title)\n",
    "    print(\"Original Flair is:\", submission.link_flair_text)\n",
    "    title = nltk_clean(submission.title)\n",
    "    print(\"Predicted Flair is:\", dict.get(predict_title(title)[0]))\n",
    "    print()"
   ]
  }
 ],
 "metadata": {
  "kernelspec": {
   "display_name": "Python 3",
   "language": "python",
   "name": "python3"
  },
  "language_info": {
   "codemirror_mode": {
    "name": "ipython",
    "version": 3
   },
   "file_extension": ".py",
   "mimetype": "text/x-python",
   "name": "python",
   "nbconvert_exporter": "python",
   "pygments_lexer": "ipython3",
   "version": "3.7.6"
  }
 },
 "nbformat": 4,
 "nbformat_minor": 4
}